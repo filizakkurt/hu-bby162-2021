{
  "nbformat": 4,
  "nbformat_minor": 0,
  "metadata": {
    "colab": {
      "name": "Final.ipynb",
      "provenance": [],
      "collapsed_sections": [],
      "mount_file_id": "11Mx1vqPNHSFFDmbz8WZVw5ivZE2dkh9Z",
      "authorship_tag": "ABX9TyOM9HtLjStjuiC8cOhHzPC4",
      "include_colab_link": true
    },
    "kernelspec": {
      "name": "python3",
      "display_name": "Python 3"
    },
    "language_info": {
      "name": "python"
    }
  },
  "cells": [
    {
      "cell_type": "markdown",
      "metadata": {
        "id": "view-in-github",
        "colab_type": "text"
      },
      "source": [
        "<a href=\"https://colab.research.google.com/github/filizakkurt/hu-bby162-2021/blob/main/Final.ipynb\" target=\"_parent\"><img src=\"https://colab.research.google.com/assets/colab-badge.svg\" alt=\"Open In Colab\"/></a>"
      ]
    },
    {
      "cell_type": "markdown",
      "metadata": {
        "id": "m6l2gBs7Gqmm"
      },
      "source": [
        "Final Projem"
      ]
    },
    {
      "cell_type": "code",
      "metadata": {
        "id": "4cKBIRbaKCrj",
        "colab": {
          "base_uri": "https://localhost:8080/"
        },
        "outputId": "1a094296-4666-4003-c51d-ab6add881e43"
      },
      "source": [
        "#kütüphane kataloğu otomasyonu\n",
        "# /content/drive/MyDrive/Colab Notebooks/hu-bby162-2021/final.txt.txt\n",
        "def kitapListesi():\n",
        "  dosya = \"/content/drive/MyDrive/Colab Notebooks/hu-bby162-2021/final.txt.txt\"\n",
        "  print(\"Kütüphane Otomasyon Sistemine Hoşgeldiniz\")\n",
        "  f = open(dosya, \"r\") \n",
        "\n",
        "  for line in f.readlines():\n",
        "    print(line)\n",
        "\n",
        "    f.close()\n",
        "\n",
        "\n",
        "def kitapKaydet():\n",
        "  kitapAdı = input(\"Kitap Adı Giriniz: \")\n",
        "  yazarAdi = input(\"Yazar Adi Giriniz: \")\n",
        "  yayineviAdi = input(\"Yayınevi Giriniz: \")\n",
        "  basimYili = input(\"Basım Tarihi Giriniz: \")\n",
        "  ISBN = input(\"Isbn Numarası Giriniz: \")\n",
        "\n",
        "  dosya = \"/content/drive/MyDrive/Colab Notebooks/hu-bby162-2021/final.txt\"\n",
        "  f = open(dosya, 'a')\n",
        "  f.write(kitapAdı+ \",\" +yazarAdi+ \",\" +yayineviAdi+ \",\" +basimYili+ \",\" +ISBN+ \"\\n\")\n",
        "  f.close()\n",
        "\n",
        "def menu():\n",
        "  print(\"---Kütüphane Otomasyon Sistemi---\")\n",
        "  while True:\n",
        "    print(\" 1) Çıkış yap.\")\n",
        "    print(\" 2) Kitapları listele. \")\n",
        "    print(\" 3) Kitap kaydet. \")\n",
        "    islem = input(\"Yapmak istediğiniz işlemi seçin (1/3):\")\n",
        "    if islem == \"1\":\n",
        "      print(\"işleminiz bitti.\")\n",
        "      break\n",
        "    elif islem == \"2\":\n",
        "      kitapListesi()\n",
        "    elif islem == \"3\":\n",
        "      kitapKaydet()\n",
        "      print(\"Kitabınız başarıyla kaydedildi.\") \n",
        "menu()\n",
        "\n",
        "\n"
      ],
      "execution_count": 49,
      "outputs": [
        {
          "output_type": "stream",
          "text": [
            "---Kütüphane Otomasyon Sistemi---\n",
            " 1) Çıkış yap.\n",
            " 2) Kitapları listele. \n",
            " 3) Kitap kaydet. \n",
            "Yapmak istediğiniz işlemi seçin (1/3):2\n",
            "Kütüphane Otomasyon Sistemine Hoşgeldiniz\n",
            "Dönüşüm, Franz Kafka, Can Yayınları, 2001, 9789750719356\n",
            "\n",
            "Beyaz Diş, Jack London, İletişim Yayınları, 2011, 9789750509346\n",
            "\n",
            "İnsan Neyle Yaşar, Lev Nikolayeviç Tolstoy, Türkiye İş Bankası Kültür Yayınları, 2012, 9786053607038\n",
            "\n",
            "İki Şehrin Hikayesi, Charles Dickens, Can Yayınları, 2018, 9789750738869\n",
            "\n",
            "Mutlu Prens, Oscar Wilde, Türkiye İş Bankası Kültür Yayınları, 2017, 9786052950364\n",
            " 1) Çıkış yap.\n",
            " 2) Kitapları listele. \n",
            " 3) Kitap kaydet. \n",
            "Yapmak istediğiniz işlemi seçin (1/3):3\n",
            "Kitap Adı Giriniz: sefiller\n",
            "Yazar Adi Giriniz: victor hugo\n",
            "Yayınevi Giriniz: sis\n",
            "Basım Tarihi Giriniz: 2010\n",
            "Isbn Numarası Giriniz: 2789785917878\n",
            "Kitabınız başarıyla kaydedildi.\n",
            " 1) Çıkış yap.\n",
            " 2) Kitapları listele. \n",
            " 3) Kitap kaydet. \n",
            "Yapmak istediğiniz işlemi seçin (1/3):1\n",
            "işleminiz bitti.\n"
          ],
          "name": "stdout"
        }
      ]
    }
  ]
}