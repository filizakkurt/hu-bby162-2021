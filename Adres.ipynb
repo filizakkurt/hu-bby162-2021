{
  "nbformat": 4,
  "nbformat_minor": 0,
  "metadata": {
    "colab": {
      "name": "Adres.ipynb",
      "provenance": [],
      "collapsed_sections": [],
      "toc_visible": true,
      "mount_file_id": "1tI0CpR6C98nwhf_LQVswaDoZRO0bImHN",
      "authorship_tag": "ABX9TyP7BSfH+3qrkibKkfsyWKGa",
      "include_colab_link": true
    },
    "kernelspec": {
      "name": "python3",
      "display_name": "Python 3"
    },
    "language_info": {
      "name": "python"
    }
  },
  "cells": [
    {
      "cell_type": "markdown",
      "metadata": {
        "id": "view-in-github",
        "colab_type": "text"
      },
      "source": [
        "<a href=\"https://colab.research.google.com/github/filizakkurt/hu-bby162-2021/blob/main/Adres.ipynb\" target=\"_parent\"><img src=\"https://colab.research.google.com/assets/colab-badge.svg\" alt=\"Open In Colab\"/></a>"
      ]
    },
    {
      "cell_type": "code",
      "metadata": {
        "id": "0y0mbr_2LB0l",
        "colab": {
          "base_uri": "https://localhost:8080/"
        },
        "outputId": "a39938ce-555a-4729-c790-8e3e81d28ef1"
      },
      "source": [
        "#/content/drive/MyDrive/Colab Notebooks/hu-bby162-2021/Adres.txt.txt\n",
        "dosya = \"/content/drive/MyDrive/Colab Notebooks/hu-bby162-2021/Adres.txt.txt\"\n",
        "isimSoyisim = input(\"isim ve soyisim giriniz: \")\n",
        "eposta = input(\"e-posta adresi giriniz: \")\n",
        "\n",
        "f = open(dosya, 'w')\n",
        "f.write(isimSoyisim + \" | \" + eposta + \"\\n\")\n",
        "f.close()\n",
        "\n",
        "dosya = \"/content/drive/MyDrive/Colab Notebooks/hu-bby162-2021/Adres.txt.txt\"\n",
        "\n",
        "f = open(dosya, \"r\") \n",
        "\n",
        "for line in f.readlines():\n",
        "    print(line)\n",
        "\n",
        "f.close()\n",
        "\n",
        "\n"
      ],
      "execution_count": 15,
      "outputs": [
        {
          "output_type": "stream",
          "text": [
            "isim ve soyisim giriniz: filiz akkurt\n",
            "e-posta adresi giriniz: akkurtfiliz2001@gmail.com\n",
            "filiz akkurt | akkurtfiliz2001@gmail.com\n",
            "\n"
          ],
          "name": "stdout"
        }
      ]
    }
  ]
}